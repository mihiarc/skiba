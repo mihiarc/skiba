{
 "cells": [
  {
   "cell_type": "code",
   "execution_count": null,
   "metadata": {},
   "outputs": [],
   "source": [
    "import skiba.foliumcode as skiba"
   ]
  },
  {
   "cell_type": "code",
   "execution_count": null,
   "metadata": {},
   "outputs": [],
   "source": [
    "m = skiba.Map(center=[37.5, -95], zoom=4)\n",
    "# url = \"https://data-usfs.hub.arcgis.com/api/download/v1/items/09e4c1162a4d4af3a84163cbc76108c4/geojson?layers=1\"\n",
    "m.add_geojson(\"Geopolitical_Units.geojson\")\n",
    "m.add_split_map()\n",
    "m.add_layer_control()\n",
    "m"
   ]
  }
 ],
 "metadata": {
  "kernelspec": {
   "display_name": "geo",
   "language": "python",
   "name": "python3"
  },
  "language_info": {
   "codemirror_mode": {
    "name": "ipython",
    "version": 3
   },
   "file_extension": ".py",
   "mimetype": "text/x-python",
   "name": "python",
   "nbconvert_exporter": "python",
   "pygments_lexer": "ipython3",
   "version": "3.12.8"
  }
 },
 "nbformat": 4,
 "nbformat_minor": 2
}
